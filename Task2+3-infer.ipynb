{
 "cells": [
  {
   "cell_type": "code",
   "execution_count": 1,
   "metadata": {},
   "outputs": [
    {
     "name": "stderr",
     "output_type": "stream",
     "text": [
      "/usr/local/lib/python3.9/dist-packages/tqdm/auto.py:21: TqdmWarning: IProgress not found. Please update jupyter and ipywidgets. See https://ipywidgets.readthedocs.io/en/stable/user_install.html\n",
      "  from .autonotebook import tqdm as notebook_tqdm\n"
     ]
    },
    {
     "name": "stdout",
     "output_type": "stream",
     "text": [
      "\n",
      "===================================BUG REPORT===================================\n",
      "Welcome to bitsandbytes. For bug reports, please run\n",
      "\n",
      "python -m bitsandbytes\n",
      "\n",
      " and submit this information together with your error trace to: https://github.com/TimDettmers/bitsandbytes/issues\n",
      "================================================================================\n",
      "bin /usr/local/lib/python3.9/dist-packages/bitsandbytes/libbitsandbytes_cuda117.so\n",
      "CUDA SETUP: CUDA runtime path found: /usr/local/cuda-11.7/lib64/libcudart.so\n",
      "CUDA SETUP: Highest compute capability among GPUs detected: 8.0\n",
      "CUDA SETUP: Detected CUDA version 117\n",
      "CUDA SETUP: Loading binary /usr/local/lib/python3.9/dist-packages/bitsandbytes/libbitsandbytes_cuda117.so...\n"
     ]
    },
    {
     "name": "stderr",
     "output_type": "stream",
     "text": [
      "/usr/local/lib/python3.9/dist-packages/bitsandbytes/cuda_setup/main.py:149: UserWarning: WARNING: The following directories listed in your path were found to be non-existent: {PosixPath('/usr/local/nvidia/lib'), PosixPath('/usr/local/nvidia/lib64')}\n",
      "  warn(msg)\n"
     ]
    },
    {
     "name": "stdout",
     "output_type": "stream",
     "text": [
      "[2024-05-19 13:07:16,914] [INFO] [real_accelerator.py:133:get_accelerator] Setting ds_accelerator to cuda (auto detect)\n"
     ]
    }
   ],
   "source": [
    "from transformers import AutoTokenizer, AutoModelForTokenClassification, AutoConfig, Trainer, TrainingArguments\n",
    "\n",
    "import time\n",
    "from sklearn.model_selection import train_test_split\n",
    "from transformers_interpret import SequenceClassificationExplainer\n",
    "import torch\n",
    "from typing import Dict, List, Optional, Tuple, Union\n",
    "from transformers import PreTrainedModel, PreTrainedTokenizer\n",
    "\n",
    "args = {}\n",
    "args['SCRIPTDIR'] = ''\n",
    "args['MODEL_DIR'] = ''\n",
    "args['MODEL_NAME'] = 'xlm-roberta-base'\n",
    "args['DATA_PATH'] = 'data/raw/'\n",
    "args['DATA_NAME'] = 'exalt_emotion_train.tsv'\n",
    "\n",
    "args['learning_rate'] = 4e-5\n",
    "args['per_device_train_batch_size'] = 4\n",
    "args['per_device_eval_batch_size'] = 4\n",
    "args['num_train_epochs'] = 1\n",
    "args['max_steps'] = 2\n",
    "args['weight_decay'] = 0.01\n",
    "args['evaluation_strategy'] = 'steps'\n",
    "args['eval_steps'] = 2\n",
    "args['save_strategy'] = 'no'\n",
    "args['gradient_accumulation_steps'] = 1\n",
    "args['bf16'] = 'false'\n",
    "args['trainable'] = 'output'\n",
    "args['deepspeed'] = ''\n",
    "\n",
    "args['save_steps'] = -1\n",
    "\n",
    "SAVE_DIR = args[\"SCRIPTDIR\"] + 'resultT/' + \\\n",
    "    (\n",
    "        args[\"MODEL_NAME\"] +'='+ \\\n",
    "        args[\"DATA_NAME\"][:-4] + '=' + \\\n",
    "        args[\"trainable\"] + 'PT=' + \\\n",
    "        f'lr{args[\"learning_rate\"]:0.0e}='.replace('-0','') + \\\n",
    "        f'bs{args[\"per_device_train_batch_size\"]*8*args[\"gradient_accumulation_steps\"]}=' + \\\n",
    "        ('bf16' if args[\"bf16\"].lower()=='true' else 'fp16') + '=' + \\\n",
    "        time.strftime('%m%d-%H%M%S', time.localtime())\n",
    "    )\n",
    "\n",
    "train_args = dict(\n",
    "    output_dir = SAVE_DIR,\n",
    "    learning_rate = args[\"learning_rate\"],\n",
    "    per_device_train_batch_size = args[\"per_device_train_batch_size\"],\n",
    "    per_device_eval_batch_size = args[\"per_device_eval_batch_size\"],\n",
    "    num_train_epochs = args[\"num_train_epochs\"],\n",
    "    max_steps = args[\"max_steps\"],\n",
    "    weight_decay = args[\"weight_decay\"],\n",
    "    evaluation_strategy = args[\"evaluation_strategy\"],\n",
    "    eval_steps = args[\"eval_steps\"],\n",
    "    save_strategy = args[\"save_strategy\"],\n",
    "    # load_best_model_at_end=True,\n",
    "    # save_total_limit=2,\n",
    "    overwrite_output_dir=True,\n",
    "\n",
    "    gradient_accumulation_steps = args[\"gradient_accumulation_steps\"],\n",
    "    logging_strategy = 'epoch',\n",
    "    bf16 = args[\"bf16\"].lower()=='true',\n",
    ")\n",
    "\n",
    "if len(args[\"deepspeed\"]) > 0 :\n",
    "    train_args['deepspeed'] = args[\"deepspeed\"]\n",
    "if args[\"save_steps\"]>=0:\n",
    "    train_args['save_steps'] = args[\"save_steps\"]\n",
    "\n",
    "MODEL_NAME = 'xlm-roberta-base'\n"
   ]
  },
  {
   "cell_type": "code",
   "execution_count": 3,
   "metadata": {},
   "outputs": [
    {
     "name": "stderr",
     "output_type": "stream",
     "text": [
      "                                                                 \r"
     ]
    }
   ],
   "source": [
    "import torch\n",
    "from typing import Dict, List, Optional, Tuple, Union\n",
    "from transformers import PreTrainedModel, PreTrainedTokenizer\n",
    "\n",
    "# to run this on the entire dataset\n",
    "import pandas as pd\n",
    "import os\n",
    "\n",
    "# pick the model you want to use\n",
    "from datasets import Dataset, DatasetDict, load_metric\n",
    "traindata = pd.read_csv(args[\"SCRIPTDIR\"] + \"data/raw/exalt_triggers_train_token.tsv\", sep=\"\\t\")\n",
    "traindata['Labels'] = traindata['Labels'].apply(eval)\n",
    "traindata['tokens'] = traindata['tokens'].apply(eval)\n",
    "traindf, devdf = train_test_split(traindata, test_size=0.1, random_state=42)\n",
    "\n",
    "testdf = pd.read_csv(args[\"SCRIPTDIR\"] + \"data/raw/exalt_triggers_dev_participants_token.tsv\", sep=\"\\t\")\n",
    "testdf['tokens'] = testdf['tokens'].apply(eval)\n",
    "\n",
    "datasets = DatasetDict({\n",
    "    \"train\": Dataset.from_pandas(traindf),\n",
    "    \"dev\" : Dataset.from_pandas(devdf)\n",
    "    })\n",
    "datasets2 = DatasetDict({\n",
    "    \"test\": Dataset.from_pandas(testdf)\n",
    "    })\n",
    "\n",
    "tokenizer = AutoTokenizer.from_pretrained(MODEL_NAME)\n",
    "label_all_tokens = True\n",
    "def tokenize_and_align_labels(examples):\n",
    "    tokenized_inputs = tokenizer(examples[\"tokens\"], truncation=True, is_split_into_words=True)\n",
    "\n",
    "    labels = []\n",
    "\n",
    "    for i, label in enumerate(examples[\"Labels\"]):\n",
    "        word_ids = tokenized_inputs.word_ids(batch_index=i)\n",
    "        previous_word_idx = None\n",
    "        label_ids = []\n",
    "        for word_idx in word_ids:\n",
    "            # Special tokens have a word id that is None. We set the label to -100 so they are automatically\n",
    "            # ignored in the loss function.\n",
    "            if word_idx is None:\n",
    "                label_ids.append(-100)\n",
    "            # We set the label for the first token of each word.\n",
    "            elif word_idx != previous_word_idx:\n",
    "                label_ids.append(label[word_idx])\n",
    "            # For the other tokens in a word, we set the label to either the current label or -100, depending on\n",
    "            # the label_all_tokens flag.\n",
    "            else:\n",
    "                label_ids.append(label[word_idx] if label_all_tokens else -100)\n",
    "            previous_word_idx = word_idx\n",
    "\n",
    "        labels.append(label_ids)\n",
    "\n",
    "    tokenized_inputs[\"labels\"] = labels\n",
    "    return tokenized_inputs\n",
    "def tokenize_and_align_labels2(examples):\n",
    "    tokenized_inputs = tokenizer(examples[\"tokens\"], truncation=True, is_split_into_words=True)\n",
    "\n",
    "    tokenized_inputs[\"Labels\"] = tokenized_inputs.word_ids()\n",
    "    return tokenized_inputs\n",
    "\n",
    "tokenized_datasets = datasets.map(tokenize_and_align_labels, batched=True)\n",
    "tokenized_datasets2 = datasets2.map(tokenize_and_align_labels2)\n"
   ]
  },
  {
   "cell_type": "code",
   "execution_count": 5,
   "metadata": {},
   "outputs": [
    {
     "name": "stderr",
     "output_type": "stream",
     "text": [
      "Some weights of XLMRobertaForTokenClassification were not initialized from the model checkpoint at /work/share/public/weights/xlm-roberta-base and are newly initialized: ['classifier.bias', 'classifier.weight']\n",
      "You should probably TRAIN this model on a down-stream task to be able to use it for predictions and inference.\n"
     ]
    }
   ],
   "source": [
    "# load the tokenizer and model\n",
    "model = AutoModelForTokenClassification.from_pretrained(MODEL_NAME,num_labels=2).to('cuda')\n",
    "\n",
    "from transformers import DataCollatorForTokenClassification\n",
    "\n",
    "data_collator = DataCollatorForTokenClassification(tokenizer)\n",
    "\n",
    "def compute_metrics(eval_pred,ep=[1]):\n",
    "    metric1 = load_metric(args.SCRIPTDIR + 'starters_kit/metric/' + \"precision.py\", trust_remote_code=True)\n",
    "    metric2 = load_metric(args.SCRIPTDIR + 'starters_kit/metric/' + \"recall.py\", trust_remote_code=True)\n",
    "    metric3 = load_metric(args.SCRIPTDIR + 'starters_kit/metric/' + \"f1.py\", trust_remote_code=True)\n",
    "    metric4 = load_metric(args.SCRIPTDIR + 'starters_kit/metric/' + \"accuracy.py\", trust_remote_code=True)\n",
    "    \n",
    "    logits, labels = eval_pred\n",
    "    predictions = np.argmax(logits, axis=2)\n",
    "\n",
    "    true_predictions = [\n",
    "        p for prediction, label in zip(predictions, labels) for (p, l) in zip(prediction, label) if l != -100\n",
    "    ]\n",
    "    true_labels = [\n",
    "        l for prediction, label in zip(predictions, labels) for (p, l) in zip(prediction, label) if l != -100\n",
    "    ]\n",
    "\n",
    "\n",
    "    precision = metric1.compute(predictions=true_predictions, references=true_labels, average=\"macro\")[\"precision\"]\n",
    "    recall = metric2.compute(predictions=true_predictions, references=true_labels, average=\"macro\")[\"recall\"]\n",
    "    f1 = metric3.compute(predictions=true_predictions, references=true_labels, average=\"macro\")[\"f1\"]\n",
    "    accuracy = metric4.compute(predictions=true_predictions, references=true_labels)[\"accuracy\"]\n",
    "\n",
    "    return {\"precision\": precision, \"recall\": recall, \"f1\": f1, \"accuracy\": accuracy}"
   ]
  },
  {
   "cell_type": "code",
   "execution_count": 6,
   "metadata": {},
   "outputs": [
    {
     "name": "stderr",
     "output_type": "stream",
     "text": [
      "You're using a XLMRobertaTokenizerFast tokenizer. Please note that with a fast tokenizer, using the `__call__` method is faster than using a method to encode the text followed by a call to the `pad` method to get a padded encoding.\n"
     ]
    }
   ],
   "source": [
    "training_args = TrainingArguments(\n",
    "    **train_args\n",
    ")\n",
    "trainer = Trainer(\n",
    "    model=model,\n",
    "    args=training_args,\n",
    "    train_dataset=tokenized_datasets[\"train\"],\n",
    "    eval_dataset=tokenized_datasets[\"dev\"],\n",
    "    tokenizer=tokenizer,\n",
    "    data_collator=data_collator,\n",
    "    compute_metrics=compute_metrics\n",
    ")\n",
    "\n",
    "resultss = trainer.predict(tokenized_datasets2[\"test\"])\n"
   ]
  },
  {
   "cell_type": "code",
   "execution_count": 8,
   "metadata": {},
   "outputs": [
    {
     "name": "stdout",
     "output_type": "stream",
     "text": [
      "73\n",
      "['this', 'season', '👨', '🏼', '👨', '🏻', '👩', '🏻', '@user', '']\n",
      "291\n",
      "['.', 'Смотреть', '!', 'Юмор', '.', 'http', 'с', 'помощью', '@user', '']\n",
      "ID                                                     8133\n",
      "Texts     There is something wrong with your mind . Nobo...\n",
      "Labels        [0, 0, 0, 0, 0, 0, 0, 0, 0, 0, 0, 0, 0, 0, 0]\n",
      "Name: 0, dtype: object\n",
      "ID                                                     8133\n",
      "Texts     There is something wrong with your mind . Nobo...\n",
      "Labels        [1, 1, 1, 1, 1, 1, 1, 1, 1, 1, 1, 1, 1, 1, 1]\n",
      "Name: 0, dtype: object\n"
     ]
    }
   ],
   "source": [
    "import numpy as np\n",
    "\n",
    "def softmax(z):\n",
    "    hat_z = [0 for i in range(len(z))]\n",
    "    for i in range(len(z)):\n",
    "        hat_z[i] = [ [(np.exp(k[0]))/(np.exp(k[0])+np.exp(k[1])),np.exp(k[1])/(np.exp(k[0])+np.exp(k[1]))] for k in z[i]]\n",
    "    return hat_z\n",
    "\n",
    "# map sub-tokens to token, numerical output\n",
    "resultN = resultss.predictions.tolist()\n",
    "aveN = []\n",
    "for output,ids in zip(resultN,tokenized_datasets2[\"test\"]['Labels']):\n",
    "    temp = [0 for i in range(ids[-2]+1)]\n",
    "    for i,n in enumerate(ids):\n",
    "        if n is not None:\n",
    "            temp[n] = max(temp[n],output[i][1])\n",
    "    aveN.append(temp)\n",
    "\n",
    "# map sub-tokens to token, binary output\n",
    "resultB = softmax(resultss.predictions)\n",
    "aveB = []\n",
    "for output,ids in zip(resultB,tokenized_datasets2[\"test\"]['Labels']):\n",
    "    temp = [0 for i in range(ids[-2]+1)]\n",
    "    for i,n in enumerate(ids):\n",
    "        if n is not None:\n",
    "            temp[n] = max(temp[n],output[i][1])\n",
    "    aveB.append(temp)\n",
    "\n",
    "for i in range(len(aveB)):\n",
    "    if len(testdf['tokens'][i])!=len(aveB[i]):\n",
    "        print(i)\n",
    "        print(testdf['tokens'][i][-10:])\n",
    "        aveB[i]+=[0.00000]\n",
    "        aveN[i]+=[0.00000]\n",
    "\n",
    "testdf = testdf.drop(columns='tokens')\n",
    "import os\n",
    "os.makedirs(SAVE_DIR,exist_ok=True)\n",
    "testdf[\"Labels\"] = aveN\n",
    "print(testdf.iloc[0])\n",
    "# testdf.to_csv(SAVE_DIR + \"/NumericalTriggers.tsv\", sep=\"\\t\", index=False)\n",
    "avedB = [[int(j>0.1) for j in i] for i in aveB ]\n",
    "testdf[\"Labels\"] = avedB\n",
    "print(testdf.iloc[0])\n",
    "# testdf.to_csv(SAVE_DIR + \"/BinaryTriggers.tsv\", sep=\"\\t\", index=False)\n",
    "\n"
   ]
  }
 ],
 "metadata": {
  "kernelspec": {
   "display_name": "Python 3",
   "language": "python",
   "name": "python3"
  },
  "language_info": {
   "codemirror_mode": {
    "name": "ipython",
    "version": 3
   },
   "file_extension": ".py",
   "mimetype": "text/x-python",
   "name": "python",
   "nbconvert_exporter": "python",
   "pygments_lexer": "ipython3",
   "version": "3.9.5"
  },
  "orig_nbformat": 4
 },
 "nbformat": 4,
 "nbformat_minor": 2
}
