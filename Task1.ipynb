{
 "cells": [
  {
   "cell_type": "code",
   "execution_count": 5,
   "metadata": {},
   "outputs": [],
   "source": [
    "\n",
    "import os, subprocess\n",
    "from datasets import Dataset, DatasetDict, load_metric\n",
    "import pandas as pd\n",
    "import os\n",
    "import numpy as np\n",
    "try:\n",
    "    import torch\n",
    "    import torch_npu\n",
    "    from torch_npu.contrib import transfer_to_npu\n",
    "except:\n",
    "    pass\n",
    "\n",
    "import time\n",
    "args = {}\n",
    "args['SCRIPTDIR'] = ''\n",
    "args['MODEL_DIR'] = ''\n",
    "args['MODEL_NAME'] = 'xlm-roberta-base'\n",
    "args['DATA_PATH'] = 'data/raw/'\n",
    "args['DATA_NAME'] = 'exalt_emotion_train.tsv'\n",
    "\n",
    "args['learning_rate'] = 4e-5\n",
    "args['per_device_train_batch_size'] = 4\n",
    "args['per_device_eval_batch_size'] = 4\n",
    "args['num_train_epochs'] = 1\n",
    "args['max_steps'] = 2\n",
    "args['weight_decay'] = 0.01\n",
    "args['evaluation_strategy'] = 'steps'\n",
    "args['eval_steps'] = 2\n",
    "args['save_strategy'] = 'no'\n",
    "args['gradient_accumulation_steps'] = 1\n",
    "args['bf16'] = 'false'\n",
    "args['trainable'] = 'full'\n",
    "args['deepspeed'] = ''\n",
    "\n",
    "args['save_steps'] = -1\n",
    "\n",
    "SAVE_DIR = args[\"SCRIPTDIR\"] + 'result/' + \\\n",
    "    (\n",
    "        args[\"MODEL_NAME\"] +'='+ \\\n",
    "        args[\"DATA_NAME\"][:-4] + '=' + \\\n",
    "        args[\"trainable\"] + 'PT=' + \\\n",
    "        f'lr{args[\"learning_rate\"]:0.0e}='.replace('-0','') + \\\n",
    "        f'bs{args[\"per_device_train_batch_size\"]*8*args[\"gradient_accumulation_steps\"]}=' + \\\n",
    "        ('bf16' if args[\"bf16\"].lower()=='true' else 'fp16') + '=' + \\\n",
    "        time.strftime('%m%d-%H%M%S', time.localtime())\n",
    "    )\n",
    "\n",
    "train_args = dict(\n",
    "    output_dir = SAVE_DIR,\n",
    "    learning_rate = args[\"learning_rate\"],\n",
    "    per_device_train_batch_size = args[\"per_device_train_batch_size\"],\n",
    "    per_device_eval_batch_size = args[\"per_device_eval_batch_size\"],\n",
    "    num_train_epochs = args[\"num_train_epochs\"],\n",
    "    max_steps = args[\"max_steps\"],\n",
    "    weight_decay = args[\"weight_decay\"],\n",
    "    evaluation_strategy = args[\"evaluation_strategy\"],\n",
    "    eval_steps = args[\"eval_steps\"],\n",
    "    save_strategy = args[\"save_strategy\"],\n",
    "    # load_best_model_at_end=True,\n",
    "    # save_total_limit=2,\n",
    "    overwrite_output_dir=True,\n",
    "    gradient_accumulation_steps = args[\"gradient_accumulation_steps\"],\n",
    "    logging_strategy = 'epoch',\n",
    "    bf16 = args[\"bf16\"].lower()=='true',\n",
    ")\n",
    "\n",
    "if len(args[\"deepspeed\"]) > 0 :\n",
    "    train_args['deepspeed'] = args[\"deepspeed\"]\n",
    "if args[\"save_steps\"]>=0:\n",
    "    train_args['save_steps'] = args[\"save_steps\"]"
   ]
  },
  {
   "cell_type": "code",
   "execution_count": 6,
   "metadata": {},
   "outputs": [
    {
     "name": "stdout",
     "output_type": "stream",
     "text": [
      "6 Unique Labels: ['Joy', 'Neutral', 'Sadness', 'Love', 'Anger', 'Fear']\n"
     ]
    }
   ],
   "source": [
    "path_to_trainfile = args[\"SCRIPTDIR\"] + args[\"DATA_PATH\"] + args[\"DATA_NAME\"]\n",
    "train_file = pd.read_csv(path_to_trainfile, sep=\"\\t\")\n",
    "\n",
    "path_to_dev_file = args[\"SCRIPTDIR\"] + \"/data/raw/exalt_emotion_dev_participants.tsv\"\n",
    "dev_file =pd.read_csv(path_to_dev_file, sep=\"\\t\")\n",
    "\n",
    "unique_labels = train_file[\"Labels\"].unique().tolist()\n",
    "print(\"{} Unique Labels: {}\".format(len(unique_labels), unique_labels))\n",
    "\n",
    "label2id = {label: i for i, label in enumerate(unique_labels)}\n",
    "id2label = {i: label for i, label in enumerate(unique_labels)}\n",
    "\n",
    "from sklearn.model_selection import train_test_split\n",
    "traindf, devdf = train_test_split(train_file, test_size=0.1, random_state=42)\n",
    "testdf = dev_file\n",
    "\n",
    "datasets = DatasetDict({\n",
    "    \"train\": Dataset.from_pandas(traindf),\n",
    "    \"dev\" : Dataset.from_pandas(devdf),\n",
    "    \"test\": Dataset.from_pandas(testdf)\n",
    "    })\n"
   ]
  },
  {
   "cell_type": "code",
   "execution_count": 8,
   "metadata": {},
   "outputs": [
    {
     "name": "stderr",
     "output_type": "stream",
     "text": [
      "                                                                  \r"
     ]
    }
   ],
   "source": [
    "MODEL_NAME = args[\"MODEL_DIR\"] + args[\"MODEL_NAME\"] #\"xlm-roberta-base\"\n",
    "\n",
    "from transformers import AutoTokenizer\n",
    "tokenizer = AutoTokenizer.from_pretrained(MODEL_NAME)\n",
    "\n",
    "def preprocess_function(examples):\n",
    "    if \"Labels\" in examples:\n",
    "        examples[\"label\"] = [label2id[x] for x in examples[\"Labels\"]]\n",
    "    return tokenizer(examples[\"Texts\"], truncation=True)\n",
    "\n",
    "\n",
    "tokenized_datasets = datasets.map(preprocess_function, batched=True)"
   ]
  },
  {
   "cell_type": "code",
   "execution_count": 10,
   "metadata": {},
   "outputs": [
    {
     "name": "stderr",
     "output_type": "stream",
     "text": [
      "Some weights of XLMRobertaForSequenceClassification were not initialized from the model checkpoint at /work/share/public/weights/xlm-roberta-base and are newly initialized: ['classifier.out_proj.bias', 'classifier.dense.weight', 'classifier.out_proj.weight', 'classifier.dense.bias']\n",
      "You should probably TRAIN this model on a down-stream task to be able to use it for predictions and inference.\n"
     ]
    }
   ],
   "source": [
    "from transformers import DataCollatorWithPadding\n",
    "data_collator = DataCollatorWithPadding(tokenizer=tokenizer)\n",
    "\n",
    "from transformers import AutoModelForSequenceClassification, TrainingArguments, Trainer\n",
    "\n",
    "model = AutoModelForSequenceClassification.from_pretrained(MODEL_NAME, num_labels=6)\n",
    "\n",
    "def freeze(module,status=False):\n",
    "    for parameter in module.parameters():\n",
    "        parameter.requires_grad = status\n",
    "\n",
    "if args[\"trainable\"].lower()=='output':\n",
    "    freeze(model.base_model)\n",
    "elif args[\"trainable\"].lower()=='inner':\n",
    "    freeze(model.base_model.embeddings)"
   ]
  },
  {
   "cell_type": "code",
   "execution_count": 13,
   "metadata": {},
   "outputs": [],
   "source": [
    "def custom_metrics(eval_pred):\n",
    "    metric1 = load_metric(args[\"SCRIPTDIR\"] + 'starters_kit/metric/' + \"precision.py\", trust_remote_code=True)\n",
    "    metric2 = load_metric(args[\"SCRIPTDIR\"] + 'starters_kit/metric/' + \"recall.py\", trust_remote_code=True)\n",
    "    metric3 = load_metric(args[\"SCRIPTDIR\"] + 'starters_kit/metric/' + \"f1.py\", trust_remote_code=True)\n",
    "    metric4 = load_metric(args[\"SCRIPTDIR\"] + 'starters_kit/metric/' + \"accuracy.py\", trust_remote_code=True)\n",
    "    \n",
    "    logits, labels = eval_pred\n",
    "    predictions = np.argmax(logits, axis=-1)\n",
    "\n",
    "    precision = metric1.compute(predictions=predictions, references=labels, average=\"macro\")[\"precision\"]\n",
    "    recall = metric2.compute(predictions=predictions, references=labels, average=\"macro\")[\"recall\"]\n",
    "    f1 = metric3.compute(predictions=predictions, references=labels, average=\"macro\")[\"f1\"]\n",
    "    accuracy = metric4.compute(predictions=predictions, references=labels)[\"accuracy\"]\n",
    "\n",
    "    return {\"precision\": precision, \"recall\": recall, \"f1\": f1, \"accuracy\": accuracy}"
   ]
  },
  {
   "cell_type": "code",
   "execution_count": 14,
   "metadata": {},
   "outputs": [
    {
     "data": {
      "text/html": [
       "\n",
       "    <div>\n",
       "      \n",
       "      <progress value='2' max='2' style='width:300px; height:20px; vertical-align: middle;'></progress>\n",
       "      [2/2 : < :, Epoch 0.00/1]\n",
       "    </div>\n",
       "    <table border=\"1\" class=\"dataframe\">\n",
       "  <thead>\n",
       " <tr style=\"text-align: left;\">\n",
       "      <th>Step</th>\n",
       "      <th>Training Loss</th>\n",
       "      <th>Validation Loss</th>\n",
       "    </tr>\n",
       "  </thead>\n",
       "  <tbody>\n",
       "  </tbody>\n",
       "</table><p>"
      ],
      "text/plain": [
       "<IPython.core.display.HTML object>"
      ]
     },
     "metadata": {},
     "output_type": "display_data"
    },
    {
     "name": "stderr",
     "output_type": "stream",
     "text": [
      "/tmp/ipykernel_120753/3296082628.py:2: FutureWarning: load_metric is deprecated and will be removed in the next major version of datasets. Use 'evaluate.load' instead, from the new library 🤗 Evaluate: https://huggingface.co/docs/evaluate\n",
      "  metric1 = load_metric(args[\"SCRIPTDIR\"] + 'starters_kit/metric/' + \"precision.py\", trust_remote_code=True)\n",
      "/usr/local/lib/python3.9/dist-packages/sklearn/metrics/_classification.py:1509: UndefinedMetricWarning: Precision is ill-defined and being set to 0.0 in labels with no predicted samples. Use `zero_division` parameter to control this behavior.\n",
      "  _warn_prf(average, modifier, f\"{metric.capitalize()} is\", len(result))\n"
     ]
    },
    {
     "data": {
      "text/plain": [
       "TrainOutput(global_step=2, training_loss=1.6755812168121338, metrics={'train_runtime': 1.3719, 'train_samples_per_second': 5.831, 'train_steps_per_second': 1.458, 'total_flos': 283676794272.0, 'train_loss': 1.6755812168121338, 'epoch': 0.0})"
      ]
     },
     "execution_count": 14,
     "metadata": {},
     "output_type": "execute_result"
    }
   ],
   "source": [
    "training_args = TrainingArguments(\n",
    "    **train_args\n",
    ")\n",
    "\n",
    "trainer = Trainer(\n",
    "    model=model,\n",
    "    args=training_args,\n",
    "    train_dataset=tokenized_datasets[\"train\"],\n",
    "    eval_dataset=tokenized_datasets[\"dev\"],\n",
    "    tokenizer=tokenizer,\n",
    "    data_collator=data_collator,\n",
    "    compute_metrics=custom_metrics,\n",
    "\n",
    ")\n",
    "\n",
    "trainer.train()"
   ]
  }
 ],
 "metadata": {
  "kernelspec": {
   "display_name": "Python 3",
   "language": "python",
   "name": "python3"
  },
  "language_info": {
   "codemirror_mode": {
    "name": "ipython",
    "version": 3
   },
   "file_extension": ".py",
   "mimetype": "text/x-python",
   "name": "python",
   "nbconvert_exporter": "python",
   "pygments_lexer": "ipython3",
   "version": "3.9.5"
  },
  "orig_nbformat": 4
 },
 "nbformat": 4,
 "nbformat_minor": 2
}
